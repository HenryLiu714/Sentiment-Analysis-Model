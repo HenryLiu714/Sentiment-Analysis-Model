{
  "cells": [
    {
      "cell_type": "markdown",
      "metadata": {
        "id": "EGbzpZ31v97M"
      },
      "source": [
        "**Installing and Importing Dependencies**"
      ]
    },
    {
      "cell_type": "code",
      "execution_count": null,
      "metadata": {
        "id": "PjGei3sbA8nb"
      },
      "outputs": [],
      "source": [
        "from google.colab import drive\n",
        "drive.mount('/content/drive')"
      ]
    },
    {
      "cell_type": "code",
      "execution_count": null,
      "metadata": {
        "id": "MzeZJL99uRVC"
      },
      "outputs": [],
      "source": [
        "import os"
      ]
    },
    {
      "cell_type": "code",
      "execution_count": null,
      "metadata": {
        "id": "8kX2adFIr2oX"
      },
      "outputs": [],
      "source": [
        "# Ensure dependencies are installed\n",
        "\n",
        "dependencies = [\n",
        "    \"numpy\",\n",
        "    \"pandas\",\n",
        "    \"matplotlib\",\n",
        "    \"tweetnlp\",\n",
        "    \"datetime,\"\n",
        "]\n",
        "\n",
        "for dependency in dependencies:\n",
        "  os.system(f\"pip3 install {dependency}\")"
      ]
    },
    {
      "cell_type": "code",
      "execution_count": null,
      "metadata": {
        "id": "Ov6c4nUnr4tt"
      },
      "outputs": [],
      "source": [
        "import numpy as np\n",
        "import pandas as pd\n",
        "import matplotlib.pyplot as plt\n",
        "import datetime\n",
        "\n",
        "import tweetnlp"
      ]
    },
    {
      "cell_type": "code",
      "execution_count": null,
      "metadata": {
        "id": "jsMZpE6oBVzU"
      },
      "outputs": [],
      "source": [
        "os.chdir(\"drive/MyDrive/sentiment_bot\")"
      ]
    },
    {
      "cell_type": "markdown",
      "metadata": {
        "id": "M-J75MmowDqA"
      },
      "source": [
        "**Sentiment Analysis Model Loading**"
      ]
    },
    {
      "cell_type": "code",
      "execution_count": null,
      "metadata": {
        "id": "bvi_v0bdudVe",
        "collapsed": true
      },
      "outputs": [],
      "source": [
        "model = tweetnlp.load_model(\"sentiment\")"
      ]
    },
    {
      "cell_type": "code",
      "execution_count": null,
      "metadata": {
        "id": "EETFkOb-uxl_"
      },
      "outputs": [],
      "source": [
        "def get_sentiment(s: str) -> int:\n",
        "  sentiment = model.sentiment(s)['label']\n",
        "\n",
        "  if sentiment == 'positive':\n",
        "    return 1\n",
        "  elif sentiment == 'negative':\n",
        "    return -1\n",
        "  else:\n",
        "    return 0"
      ]
    },
    {
      "cell_type": "code",
      "execution_count": null,
      "metadata": {
        "id": "PuKoIy93vyha"
      },
      "outputs": [],
      "source": [
        "tweets = pd.read_csv('stock.csv', on_bad_lines='skip')"
      ]
    },
    {
      "cell_type": "code",
      "source": [
        "tweets = tweets.dropna()\n",
        "tweets = tweets[tweets['category']=='stock_images']\n",
        "tweets = tweets.drop(columns=['tweet_url', 'tweet_type', 'price_of_ticker', 'change_of_ticker', 'category'])"
      ],
      "metadata": {
        "id": "POOp8K8_JndA"
      },
      "execution_count": null,
      "outputs": []
    },
    {
      "cell_type": "code",
      "execution_count": null,
      "metadata": {
        "id": "AckMJ6Ab_1UZ"
      },
      "outputs": [],
      "source": [
        "def tickers_to_array(s:str)->list[str]:\n",
        "  s = s[1:-1].split(', ')\n",
        "  tickers = []\n",
        "  for ticker in s:\n",
        "    tickers.append(ticker[2:-1])\n",
        "  return tickers\n",
        "\n",
        "tweets['tickers_mentioned'] = tweets['tickers_mentioned'].transform(lambda x: tickers_to_array(x))\n",
        "tweets['timestamp'] = tweets['timestamp'].transform(lambda x: pd.Timestamp(x[:10]))"
      ]
    },
    {
      "cell_type": "code",
      "source": [
        "class Trade:\n",
        "  def __init__(self, ticker: str, dir: bool, strength: int):\n",
        "    self.ticker = ticker\n",
        "    self.dir = dir\n",
        "    self.strength = strength"
      ],
      "metadata": {
        "id": "mbc1fgrMCQVE"
      },
      "execution_count": null,
      "outputs": []
    },
    {
      "cell_type": "code",
      "source": [
        "curr_date = str(datetime.datetime.now())\n",
        "curr_date = \"\".join(c for c in curr_date if c.isnumeric())"
      ],
      "metadata": {
        "id": "vtXXHJTmKEZo"
      },
      "execution_count": null,
      "outputs": []
    },
    {
      "cell_type": "code",
      "source": [
        "def get_best_trade(date: pd.Timestamp) -> Trade:\n",
        "  ticker_data = tweets[tweets['timestamp'] == date]\n",
        "\n",
        "  tickers = {}\n",
        "\n",
        "  for index, row in ticker_data.iterrows():\n",
        "    sentiment = get_sentiment(row['tweet_text'])\n",
        "\n",
        "    for ticker in row['tickers_mentioned']:\n",
        "      if ticker not in tickers:\n",
        "        tickers[ticker] = sentiment\n",
        "      else:\n",
        "        tickers[ticker] += sentiment\n",
        "\n",
        "  best_ticker = max(tickers, key=tickers.get)\n",
        "  worst_ticker = min(tickers, key=tickers.get)\n",
        "\n",
        "  if abs(tickers[best_ticker]) > abs(tickers[worst_ticker]):\n",
        "    return Trade(best_ticker, True, abs(tickers[best_ticker]))\n",
        "  else:\n",
        "    return Trade(worst_ticker, False, abs(tickers[worst_ticker]))\n"
      ],
      "metadata": {
        "id": "X2s79R-OOfh7"
      },
      "execution_count": null,
      "outputs": []
    },
    {
      "cell_type": "code",
      "source": [
        "import yfinance as yf\n",
        "import json\n",
        "\n",
        "cache = {}\n",
        "with open('cache.json', 'r') as f:\n",
        "  cache = json.load(f)"
      ],
      "metadata": {
        "id": "FZ0O1BRogeBt"
      },
      "execution_count": null,
      "outputs": []
    },
    {
      "cell_type": "code",
      "source": [
        "class TradeResult:\n",
        "  def __init__(self, ticker: str, date: str, start: float, end: float, shares: float):\n",
        "    self.ticker = ticker\n",
        "    self.date = date\n",
        "    self.start = start\n",
        "    self.end = end\n",
        "    self.shares = shares\n",
        "\n",
        "  def get_pnl(self):\n",
        "    return self.end - self.start\n",
        "\n",
        "  def show_trade(self):\n",
        "    print(f\"Ticker: {self.ticker}\")\n",
        "    print(f\"Start: {self.start}\")\n",
        "    print(f\"End: {self.end}\")\n",
        "    print(f\"Pnl: {self.get_pnl()}\")\n",
        "    print(\"----------------------\\n\")"
      ],
      "metadata": {
        "id": "n_91mTaoFePw"
      },
      "execution_count": null,
      "outputs": []
    },
    {
      "cell_type": "code",
      "source": [
        "def get_price(ticker:str, date:str)->float:\n",
        "  data = yf.download(ticker, start=date, end=(pd.Timestamp(date) + pd.Timedelta(days = 4)).strftime('%Y-%m-%d'))\n",
        "  return data.iloc[0]['Adj Close']\n",
        "\n",
        "def get_final_balance(equities, balance, date) -> float:\n",
        "  for equity in equities:\n",
        "    data = yf.download(equity[0], start=end_date, end=(pd.Timestamp(end_date) + pd.Timedelta(days = 4)).strftime('%Y-%m-%d'))\n",
        "    price = data.iloc[0]['Adj Close']\n",
        "\n",
        "    balance += equity[1] * price\n",
        "\n",
        "def output_trades(trades, balance):\n",
        "  curr_date = str(datetime.datetime.now())\n",
        "  curr_date = \"\".join(c for c in curr_date if c.isnumeric())\n",
        "  trades_file_name = f\"trades_{curr_date}.txt\"\n",
        "\n",
        "  # Write results\n",
        "  with open(trades_file_name, 'w') as f:\n",
        "    for trade in trades:\n",
        "      f.write(f\"{trade.date} : {trade.ticker} : From: {trade.start} To: {trade.end} PnL: {trade.get_pnl()}\\n\")\n",
        "\n",
        "    f.write(f\"Final Balance: {balance}\")\n",
        "\n",
        "def dump_cache():\n",
        "  out_file = open(\"cache.json\", \"w\")\n",
        "  out_file.write(json.dumps(cache))\n",
        "  out_file.close()"
      ],
      "metadata": {
        "id": "ILT5Cp4gAAph"
      },
      "execution_count": null,
      "outputs": []
    },
    {
      "cell_type": "code",
      "source": [
        "def backtest(starting_balance: int = 100000, port_split: int = 10, commission: float = 0.002, start_date:str=\"2022-12-27\", end_date: str = \"2023-11-20\") -> int:\n",
        "  cost_per_trade = starting_balance / port_split\n",
        "  balance = starting_balance\n",
        "  curr_balance = balance\n",
        "\n",
        "  start_time = pd.Timestamp(start_date)\n",
        "  end_time = pd.Timestamp(end_date)\n",
        "\n",
        "  #equities we hold :3\n",
        "  equities = []\n",
        "  trades = []\n",
        "\n",
        "  for date in tweets['timestamp'].unique():\n",
        "    if date < start_time or date > end_time:\n",
        "      continue\n",
        "\n",
        "    print(f\"Date: {date}, Best Trade: {get_best_trade(date).ticker} \")\n",
        "\n",
        "    trade = get_best_trade(date)\n",
        "    if trade.dir:\n",
        "      try:\n",
        "        # Caching because i dont wanna wait\n",
        "        key = date.strftime('%Y-%m-%d') + trade.ticker\n",
        "        if key in cache:\n",
        "          price = cache[key][1]\n",
        "        else:\n",
        "          price = get_price(trade.ticker, date.strftime('%Y-%m-%d'))\n",
        "          cache[date.strftime('%Y-%m-%d')] = [trade.ticker, price]\n",
        "\n",
        "        if balance > 0:\n",
        "          #price = rice # henry slays # henry is a cat # inf/tj men >> #henry has emotions shooketh # henry si more f than t based on prior memories # henry are we done yet :O\n",
        "          print(f\"Current balance: {balance}\")\n",
        "          print(f\"Cost of trade: {cost_per_trade}\")\n",
        "\n",
        "          equities.append([trade.ticker, cost_per_trade/price])\n",
        "          balance -= cost_per_trade\n",
        "\n",
        "          # Add to trade_results\n",
        "          trades.append(TradeResult(trade.ticker, date.strftime('%Y-%m-%d'), cost_per_trade, 0, equities[-1][1]))\n",
        "        else:\n",
        "          first_trade = equities.pop(0)\n",
        "          key = date.strftime('%Y-%m-%d') + first_trade[0]\n",
        "\n",
        "          if key in cache:\n",
        "            first_price = cache[key][1]\n",
        "          else:\n",
        "            first_price = get_price(trade.ticker, date.strftime('%Y-%m-%d'))\n",
        "            cache[key] = [first_trade[0], first_price]\n",
        "\n",
        "          cash_on_hand = first_price * first_trade[1] * (1 - commission) # After selling first stock :3\n",
        "          print(f\"Cost of trade: {cash_on_hand}\")\n",
        "\n",
        "          equities.append([trade.ticker, cash_on_hand/price])\n",
        "\n",
        "          # Add to trade results\n",
        "          trades[-port_split].end = cash_on_hand\n",
        "          trades.append(TradeResult(trade.ticker, date.strftime('%Y-%m-%d'), cash_on_hand, 0, equities[-1][1]))\n",
        "      except:\n",
        "        print(f\"Error: Symbol {trade.ticker} not found\")\n",
        "\n",
        "\n",
        "  # Getting all the money (hayun's favorite part >:3)\n",
        "  balance = get_final_balance(equities, balance, end_date)\n",
        "\n",
        "  # Output and Cleanup\n",
        "  output_trades(trades, balance)\n",
        "  dump_cache()\n",
        "\n",
        "  return balance, trades\n"
      ],
      "metadata": {
        "id": "rUrrM5G5gLnU"
      },
      "execution_count": null,
      "outputs": []
    },
    {
      "cell_type": "code",
      "source": [
        "returns1, trades_made1 = backtest(start_date=\"2022-05-21\")\n",
        "returns2, trades_made2 = backtest()"
      ],
      "metadata": {
        "id": "UtW3_Vn4huEn"
      },
      "execution_count": null,
      "outputs": []
    },
    {
      "cell_type": "code",
      "source": [],
      "metadata": {
        "id": "VOYeXsB-5MIQ"
      },
      "execution_count": null,
      "outputs": []
    }
  ],
  "metadata": {
    "colab": {
      "provenance": [],
      "gpuType": "T4"
    },
    "kernelspec": {
      "display_name": "Python 3",
      "name": "python3"
    },
    "language_info": {
      "name": "python"
    },
    "accelerator": "GPU"
  },
  "nbformat": 4,
  "nbformat_minor": 0
}