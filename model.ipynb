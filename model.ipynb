{
  "cells": [
    {
      "cell_type": "markdown",
      "source": [
        "**Installing and Importing Dependencies**"
      ],
      "metadata": {
        "id": "EGbzpZ31v97M"
      }
    },
    {
      "cell_type": "code",
      "source": [
        "import os"
      ],
      "metadata": {
        "id": "MzeZJL99uRVC"
      },
      "execution_count": null,
      "outputs": []
    },
    {
      "cell_type": "code",
      "execution_count": null,
      "metadata": {
        "id": "8kX2adFIr2oX"
      },
      "outputs": [],
      "source": [
        "# Ensure dependencies are installed\n",
        "\n",
        "dependencies = [\n",
        "    \"numpy\",\n",
        "    \"pandas\",\n",
        "    \"matplotlib\",\n",
        "    \"tweetnlp\",\n",
        "    \"backtesting\"\n",
        "]\n",
        "\n",
        "for dependency in dependencies:\n",
        "  os.system(f\"pip3 install {dependency}\")"
      ]
    },
    {
      "cell_type": "code",
      "source": [
        "import numpy as np\n",
        "import pandas as pd\n",
        "import matplotlib.pyplot as plt\n",
        "\n",
        "import tweetnlp\n",
        "import backtesting"
      ],
      "metadata": {
        "id": "Ov6c4nUnr4tt"
      },
      "execution_count": null,
      "outputs": []
    },
    {
      "cell_type": "markdown",
      "source": [
        "**Sentiment Analysis Model Loading**"
      ],
      "metadata": {
        "id": "M-J75MmowDqA"
      }
    },
    {
      "cell_type": "code",
      "source": [
        "model = tweetnlp.load_model(\"sentiment\")"
      ],
      "metadata": {
        "id": "bvi_v0bdudVe"
      },
      "execution_count": null,
      "outputs": []
    },
    {
      "cell_type": "code",
      "source": [
        "def get_sentiment(s: str) -> int:\n",
        "  sentiment = model.sentiment(s)['label']\n",
        "\n",
        "  if sentiment == 'positive':\n",
        "    return 2\n",
        "  elif sentiment == 'negative':\n",
        "    return 0\n",
        "  else:\n",
        "    return 1"
      ],
      "metadata": {
        "id": "EETFkOb-uxl_"
      },
      "execution_count": null,
      "outputs": []
    },
    {
      "cell_type": "code",
      "source": [],
      "metadata": {
        "id": "PuKoIy93vyha"
      },
      "execution_count": null,
      "outputs": []
    }
  ],
  "metadata": {
    "language_info": {
      "name": "python"
    },
    "orig_nbformat": 4,
    "colab": {
      "provenance": []
    },
    "kernelspec": {
      "name": "python3",
      "display_name": "Python 3"
    }
  },
  "nbformat": 4,
  "nbformat_minor": 0
}