{
  "nbformat": 4,
  "nbformat_minor": 0,
  "metadata": {
    "colab": {
      "provenance": [],
      "authorship_tag": "ABX9TyN/8P7eyms8jfUOrjB0WGal",
      "include_colab_link": true
    },
    "kernelspec": {
      "name": "python3",
      "display_name": "Python 3"
    },
    "language_info": {
      "name": "python"
    }
  },
  "cells": [
    {
      "cell_type": "markdown",
      "metadata": {
        "id": "view-in-github",
        "colab_type": "text"
      },
      "source": [
        "<a href=\"https://colab.research.google.com/github/HenryLiu714/Sentiment-Analysis-Model/blob/main/analysis.ipynb\" target=\"_parent\"><img src=\"https://colab.research.google.com/assets/colab-badge.svg\" alt=\"Open In Colab\"/></a>"
      ]
    },
    {
      "cell_type": "code",
      "execution_count": null,
      "metadata": {
        "id": "S4-Or3wpP7q9"
      },
      "outputs": [],
      "source": [
        "import numpy as np\n",
        "import matplotlib.pyplot as plt\n",
        "import pandas as pd\n",
        "\n",
        "import os"
      ]
    },
    {
      "cell_type": "code",
      "source": [
        "from google.colab import drive\n",
        "drive.mount('/content/drive')"
      ],
      "metadata": {
        "id": "lrtpNJvWQWjp"
      },
      "execution_count": null,
      "outputs": []
    },
    {
      "cell_type": "code",
      "source": [
        "os.chdir(\"drive/MyDrive/sentiment_bot\")"
      ],
      "metadata": {
        "id": "NEIPQzWkQhIz"
      },
      "execution_count": null,
      "outputs": []
    },
    {
      "cell_type": "code",
      "source": [
        "file_name = 'trades_20240628015644910531.txt'"
      ],
      "metadata": {
        "id": "egNMuFSDTM7f"
      },
      "execution_count": null,
      "outputs": []
    },
    {
      "cell_type": "code",
      "source": [
        "with open(file_name, \"r\") as f:\n",
        "    lines = f.readlines()\n",
        "    lines = [x.split(\" \") for x in lines]\n",
        "lines = lines[:-1] # Drop last line"
      ],
      "metadata": {
        "id": "BljeeKHyQERv"
      },
      "execution_count": null,
      "outputs": []
    },
    {
      "cell_type": "code",
      "source": [
        "lines"
      ],
      "metadata": {
        "id": "HTMuYAMzTR-F"
      },
      "execution_count": null,
      "outputs": []
    },
    {
      "cell_type": "code",
      "source": [
        "trades = [[x[0], float(x[5])] for x in lines]"
      ],
      "metadata": {
        "id": "FH1OVxKLUJ6_"
      },
      "execution_count": null,
      "outputs": []
    },
    {
      "cell_type": "code",
      "source": [
        "curve_points = []\n",
        "\n",
        "for i in range(len(trades)-9):\n",
        "  sum = 0\n",
        "  for j in range(10):\n",
        "    sum += trades[i+j][1]\n",
        "  curve_points.append([trades[i+9][0], sum])"
      ],
      "metadata": {
        "id": "0jXi2WMWUVxF"
      },
      "execution_count": null,
      "outputs": []
    },
    {
      "cell_type": "code",
      "source": [
        "import datetime"
      ],
      "metadata": {
        "id": "D99kNsPHYX0f"
      },
      "execution_count": null,
      "outputs": []
    },
    {
      "cell_type": "code",
      "source": [
        "points = [[pd.Timestamp(item[0]), item[1]] for item in curve_points]"
      ],
      "metadata": {
        "id": "PvfSje04XrZr"
      },
      "execution_count": null,
      "outputs": []
    },
    {
      "cell_type": "code",
      "source": [
        "dates = [x[0] for x in points]\n",
        "values = [x[1] for x in points]"
      ],
      "metadata": {
        "id": "86Y8NcKeZcNx"
      },
      "execution_count": null,
      "outputs": []
    },
    {
      "cell_type": "code",
      "source": [
        "df = pd.DataFrame(points, columns=['date', 'value'])"
      ],
      "metadata": {
        "id": "asJe74bLX7Po"
      },
      "execution_count": null,
      "outputs": []
    },
    {
      "cell_type": "code",
      "source": [
        "plt.plot(df['date'], df['value'])\n",
        "plt.show()"
      ],
      "metadata": {
        "id": "oIEUQyH2aCHd"
      },
      "execution_count": null,
      "outputs": []
    }
  ]
}